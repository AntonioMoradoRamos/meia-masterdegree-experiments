{
  "nbformat": 4,
  "nbformat_minor": 0,
  "metadata": {
    "colab": {
      "name": "tarefas_ml_2_preparar_conjunto_dados.ipynb",
      "provenance": [],
      "collapsed_sections": [],
      "authorship_tag": "ABX9TyPLkvROxcRcF2TLo1rjfi+h",
      "include_colab_link": true
    },
    "kernelspec": {
      "name": "python3",
      "display_name": "Python 3"
    },
    "language_info": {
      "name": "python"
    }
  },
  "cells": [
    {
      "cell_type": "markdown",
      "metadata": {
        "id": "view-in-github",
        "colab_type": "text"
      },
      "source": [
        "<a href=\"https://colab.research.google.com/github/AntonioMoradoRamos/meia-masterdegree-experiments/blob/main/ML-Tarefas%5Ctarefas_ml_2_preparar_conjunto_dados.ipynb\" target=\"_parent\"><img src=\"https://colab.research.google.com/assets/colab-badge.svg\" alt=\"Open In Colab\"/></a>"
      ]
    },
    {
      "cell_type": "markdown",
      "source": [
        "# Dataset preparation and generation"
      ],
      "metadata": {
        "id": "JTSkKC8R_Dxc"
      }
    },
    {
      "cell_type": "markdown",
      "source": [
        "Ficheiro \"data1.xlsx\" (Full Year of historical data (1st data set) (53 907 KB) ).<br>\n",
        "Importar o ficheiro para o colab.<br>\n",
        "\n",
        "Gera um CSV com os dias do mês de Janeiro. Em cada dia contém registos em intervalos de 5 minutos desde a zero hora. Em que cada dia contém os valores das seguintes features:<br>\n",
        "*   date\n",
        "*   time\n",
        "*   consumption (w)\n",
        "*   generation (w)\n",
        "*   temperature (˚C)\t\n",
        "*   humidity (%)\n",
        "*   radiation (Wm^2)\n",
        "*   isoweekday\n",
        "*   period_of_day\n",
        "\n",
        "\n",
        "Cada dia do mês está classificado nos respectivos dias da semana, sendo que:\n",
        "*   Monday      -> 1\n",
        "*   Tuesday     -> 2\n",
        "*   Wednesday   -> 3\n",
        "*   Thrusday    -> 4\n",
        "*   Friday      -> 5\n",
        "*   Saturday    -> 6\n",
        "*   Sunday      -> 7\n",
        "\n",
        "Classificação dos registos em períodos do dia:\n",
        "*   madrugada: 00:05:00 -> 05:55:00 -> 1\n",
        "*   manhã: 06:05:00 -> 11:55:00 -> 2\n",
        "*   tarde: 12:05:00 -> 17:55:00 -> 3\n",
        "*   noite: 18:05:00 -> 23:55:00 -> 4\n",
        "\n",
        "Nome do ficheiro gerado: jan_2019_periodo_dia.csv\n"
      ],
      "metadata": {
        "id": "IGssN8x_Wmwz"
      }
    },
    {
      "cell_type": "markdown",
      "source": [
        "##Libraries"
      ],
      "metadata": {
        "id": "JdoUuR3i_G_F"
      }
    },
    {
      "cell_type": "code",
      "execution_count": null,
      "metadata": {
        "id": "L6zIA77t9hlU"
      },
      "outputs": [],
      "source": [
        "import pandas as pd\n",
        "import numpy as np\n",
        "\n",
        "import datetime\n",
        "from datetime import date, timedelta\n",
        "from datetime import time"
      ]
    },
    {
      "cell_type": "code",
      "source": [
        "# Versão do python\n",
        "!python --version"
      ],
      "metadata": {
        "id": "OT58OfkEZ7gF",
        "colab": {
          "base_uri": "https://localhost:8080/"
        },
        "outputId": "dbbc8557-efe4-4d3d-a8db-753788c13de6"
      },
      "execution_count": null,
      "outputs": [
        {
          "output_type": "stream",
          "name": "stdout",
          "text": [
            "Python 3.7.12\n"
          ]
        }
      ]
    },
    {
      "cell_type": "code",
      "source": [
        "# Versão do panas\n",
        "print(pd.__version__)"
      ],
      "metadata": {
        "colab": {
          "base_uri": "https://localhost:8080/"
        },
        "id": "mZID07hc8Crl",
        "outputId": "4676bc47-0fbb-4048-f9ed-dcec4a909e79"
      },
      "execution_count": null,
      "outputs": [
        {
          "output_type": "stream",
          "name": "stdout",
          "text": [
            "1.1.5\n"
          ]
        }
      ]
    },
    {
      "cell_type": "markdown",
      "source": [
        "##Load Dataset"
      ],
      "metadata": {
        "id": "rqDDwCox_Jw1"
      }
    },
    {
      "cell_type": "code",
      "source": [
        "from google.colab import files\n",
        "def export_data(ds, brandname):\n",
        "  ds.to_csv(brandname, sep=';')\n",
        "  files.download(brandname)"
      ],
      "metadata": {
        "id": "cdF6x9YfaZ0y"
      },
      "execution_count": null,
      "outputs": []
    },
    {
      "cell_type": "code",
      "source": [
        "import datetime\n",
        "from datetime import date\n",
        "def convert_int64_to_timestamp(dateAsInt64):\n",
        "  #print(\"datetime as int64: \" , dateAsInt64)\n",
        "  theTimeStamp = pd.to_datetime(dateAsInt64, unit='s')\n",
        "  #print(\"datetime as timestamp: \" , theTimeStamp)\n",
        "\n",
        "  return theTimeStamp\n",
        "\n"
      ],
      "metadata": {
        "id": "cxby9lyvwmuy"
      },
      "execution_count": null,
      "outputs": []
    },
    {
      "cell_type": "code",
      "source": [
        "# https://docs.python.org/3/library/datetime.html\n",
        "#date.isoweekday()\n",
        "# Return the day of the week as an integer, where Monday is 1 and Sunday is 7. For example, date(2002, 12, 4).isoweekday() == 3, a Wednesday. See also weekday(), isocalendar().\n",
        "def get_isoweekday(theDate):\n",
        "  return theDate.isoweekday()\n"
      ],
      "metadata": {
        "id": "65POjkOh0E9h"
      },
      "execution_count": null,
      "outputs": []
    },
    {
      "cell_type": "code",
      "source": [
        "def get_day_period(theTime):\n",
        "  \n",
        "  madrugada = 1\n",
        "  ini_madrugada = time(hour=0, minute=0, second=0, microsecond=0)\n",
        "  fim_madrugada = time(hour=5, minute=55, second=0, microsecond=0)\n",
        "\n",
        "  manha = 2\n",
        "  ini_manha = time(hour=6, minute=0, second=0, microsecond=0)\n",
        "  fim_manha = time(hour=11, minute=55, second=0, microsecond=0)\n",
        "  \n",
        "  tarde = 3\n",
        "  ini_tarde = time(hour=12, minute=0, second=0, microsecond=0)\n",
        "  fim_tarde = time(hour=17, minute=55, second=0, microsecond=0)\n",
        "  \n",
        "  noite = 4\n",
        "  ini_noite = time(hour=18, minute=0, second=0, microsecond=0)\n",
        "  fim_noite = time(hour=23, minute=55, second=0, microsecond=0)\n",
        "  \n",
        "  \n",
        "  if theTime >= ini_madrugada and theTime <= fim_madrugada:\n",
        "    #print(\"madrugada: \", theDate.time())\n",
        "    return madrugada\n",
        "\n",
        "  if theTime >= ini_manha and theTime <= fim_manha:\n",
        "    #print(\"manhã: \", theDate.time())\n",
        "    return manha\n",
        "\n",
        "  if theTime >= ini_tarde and theTime <= fim_tarde:\n",
        "    #print(\"tarde: \", theDate.time())\n",
        "    return tarde\n",
        "\n",
        "  if theTime >= ini_noite and theTime <= fim_noite:\n",
        "    #print(\"noite: \", theDate.time())\n",
        "    return noite"
      ],
      "metadata": {
        "id": "LhKDcfubZmt4"
      },
      "execution_count": null,
      "outputs": []
    },
    {
      "cell_type": "code",
      "source": [
        "def split_timestamp_to_date_and_time(ds, date_time_feature_name):\n",
        "  series_date =  pd.to_datetime(convert_int64_to_timestamp(ds[date_time_feature_name]))\n",
        "  # Para além de obter a data, i.e., o ano, o mês e o dia, é preciso garantir que o tipo de dados é datetime64\n",
        "  # Este é o tipo de dados dos outros conjuntos de dados. \n",
        "  # É preciso que seja igual para realizar o merge\n",
        "  ds['date'] = pd.to_datetime(pd.to_datetime(series_date).dt.date) \n",
        "\n",
        "  series_time =  pd.to_datetime(convert_int64_to_timestamp(ds[date_time_feature_name]))\n",
        "  ds['time'] = pd.to_datetime(series_time).dt.time\n",
        "\n",
        "  return ds"
      ],
      "metadata": {
        "id": "4X6TL72aua-n"
      },
      "execution_count": null,
      "outputs": []
    },
    {
      "cell_type": "code",
      "source": [
        "##Merge dos dois conjuntos de dados utilizando as features \"date\" e \"time\"\n",
        "def merge_ds_by_date_and_time(ds1, ds2):\n",
        "  ds_merged = pd.merge(ds1, ds2, on=['date', 'time'])\n",
        "\n",
        "  # Remover o datetime\n",
        "  ds_merged.drop(columns=['datetime (epoch)'], inplace=True)\n",
        "  \n",
        "  return ds_merged"
      ],
      "metadata": {
        "id": "N300Tc7FAgkl"
      },
      "execution_count": null,
      "outputs": []
    },
    {
      "cell_type": "code",
      "source": [
        "def get_ds_by_day(ds, day):\n",
        "  query = \"date == \" + day\n",
        "  #print(query)\n",
        "  ds_filter = ds.query(query)\n",
        "  return ds_filter\n"
      ],
      "metadata": {
        "id": "nxfHv-x06Ef5"
      },
      "execution_count": null,
      "outputs": []
    },
    {
      "cell_type": "code",
      "source": [
        "#def get_ds_mean_values_per_date(ds, date):\n",
        "#  #date = '20190101'\n",
        "#  #print(date)\n",
        "#  ds_day = get_ds_by_day(ds, date)\n",
        "#  gb1 = ds_day.groupby(['date']).mean()\n",
        "#  # converter groupby para dataframew\n",
        "#  ds_groupby = gb1.reset_index()\n",
        "#  return ds_groupby"
      ],
      "metadata": {
        "id": "Hm4eKfJs-FP5"
      },
      "execution_count": null,
      "outputs": []
    },
    {
      "cell_type": "code",
      "source": [
        "#def get_ds_by_day(ds, day):\n",
        "#  query = \"date == \" + day\n",
        "#  #print(query)\n",
        "#  ds_filter = ds.query(query)\n",
        "#  return ds_filter"
      ],
      "metadata": {
        "id": "aDd9iJ8dG5Bi"
      },
      "execution_count": null,
      "outputs": []
    },
    {
      "cell_type": "code",
      "source": [
        "def ds_mes(ds, periodo):\n",
        "  return ds.query(periodo);\n",
        "  "
      ],
      "metadata": {
        "id": "taFyrBm1KxdG"
      },
      "execution_count": null,
      "outputs": []
    },
    {
      "cell_type": "code",
      "source": [
        "def load_excel_data():\n",
        "  return pd.ExcelFile('data1.xlsx')"
      ],
      "metadata": {
        "id": "yulJR77vvoJ6"
      },
      "execution_count": null,
      "outputs": []
    },
    {
      "cell_type": "code",
      "source": [
        "def prepare_data(xsls, periodo):\n",
        "  ds_building_energy = pd.read_excel(xsls, 'building_energy')\n",
        "  ds_weather_data = pd.read_excel(xsls, 'weather_data')\n",
        "\n",
        "  ### Adicionar ao dataset \"ds_weather_data\" duas colunas\n",
        "  # a) date \n",
        "  # b) time \n",
        "  #\n",
        "  # Estas duas colunas são necessárias para o merge entre os três conjuntos de dados\n",
        "\n",
        "  # No dataset ds_weather_data o registo no instante temporal é feito com o tipo de dados datetime\n",
        "  ds_weather_data = split_timestamp_to_date_and_time(ds_weather_data, 'datetime (epoch)')\n",
        "\n",
        "  ds_merged = merge_ds_by_date_and_time(ds_building_energy, ds_weather_data)\n",
        "\n",
        "  ds_merged['isoweekday'] = ds_merged['date'].apply(get_isoweekday)\n",
        "  ds_merged['period_of_day'] = ds_merged['time'].apply(get_day_period)\n",
        "  ds_prepared = ds_mes(ds_merged, periodo)\n",
        "  return ds_prepared"
      ],
      "metadata": {
        "id": "CBWinHu_ay9-"
      },
      "execution_count": null,
      "outputs": []
    },
    {
      "cell_type": "code",
      "source": [
        "xsls = load_excel_data()"
      ],
      "metadata": {
        "id": "yWml1PPjtpJj"
      },
      "execution_count": null,
      "outputs": []
    },
    {
      "cell_type": "code",
      "source": [
        "#ds.head()\n",
        "jan = \"date >= 20190101 and date <= 20190131\"\n",
        "file_name = \"jan_2019_periodo_dia.csv\"\n",
        "\n",
        "ds_mes = prepare_data(xsls, jan)\n",
        "export_data(ds_mes, file_name)\n"
      ],
      "metadata": {
        "colab": {
          "base_uri": "https://localhost:8080/",
          "height": 16
        },
        "id": "8_m1ocpHv2Qe",
        "outputId": "f0222d69-f08f-4deb-c7af-059035527946"
      },
      "execution_count": null,
      "outputs": [
        {
          "output_type": "display_data",
          "data": {
            "application/javascript": [
              "\n",
              "    async function download(id, filename, size) {\n",
              "      if (!google.colab.kernel.accessAllowed) {\n",
              "        return;\n",
              "      }\n",
              "      const div = document.createElement('div');\n",
              "      const label = document.createElement('label');\n",
              "      label.textContent = `Downloading \"${filename}\": `;\n",
              "      div.appendChild(label);\n",
              "      const progress = document.createElement('progress');\n",
              "      progress.max = size;\n",
              "      div.appendChild(progress);\n",
              "      document.body.appendChild(div);\n",
              "\n",
              "      const buffers = [];\n",
              "      let downloaded = 0;\n",
              "\n",
              "      const channel = await google.colab.kernel.comms.open(id);\n",
              "      // Send a message to notify the kernel that we're ready.\n",
              "      channel.send({})\n",
              "\n",
              "      for await (const message of channel.messages) {\n",
              "        // Send a message to notify the kernel that we're ready.\n",
              "        channel.send({})\n",
              "        if (message.buffers) {\n",
              "          for (const buffer of message.buffers) {\n",
              "            buffers.push(buffer);\n",
              "            downloaded += buffer.byteLength;\n",
              "            progress.value = downloaded;\n",
              "          }\n",
              "        }\n",
              "      }\n",
              "      const blob = new Blob(buffers, {type: 'application/binary'});\n",
              "      const a = document.createElement('a');\n",
              "      a.href = window.URL.createObjectURL(blob);\n",
              "      a.download = filename;\n",
              "      div.appendChild(a);\n",
              "      a.click();\n",
              "      div.remove();\n",
              "    }\n",
              "  "
            ],
            "text/plain": [
              "<IPython.core.display.Javascript object>"
            ]
          },
          "metadata": {}
        },
        {
          "output_type": "display_data",
          "data": {
            "application/javascript": [
              "download(\"download_47ce7336-7bc9-416d-9ce6-9ebfc3e8ee4f\", \"jan_2019_periodo_dia.csv\", 452288)"
            ],
            "text/plain": [
              "<IPython.core.display.Javascript object>"
            ]
          },
          "metadata": {}
        }
      ]
    },
    {
      "cell_type": "code",
      "source": [
        "ds_mes.head()"
      ],
      "metadata": {
        "colab": {
          "base_uri": "https://localhost:8080/",
          "height": 206
        },
        "id": "BiwKIT7CEvUl",
        "outputId": "b7a0b6b9-e744-451c-a4a7-46bb472b756c"
      },
      "execution_count": null,
      "outputs": [
        {
          "output_type": "execute_result",
          "data": {
            "text/html": [
              "\n",
              "  <div id=\"df-9c22cf57-8d21-4545-9ee2-00664738bd95\">\n",
              "    <div class=\"colab-df-container\">\n",
              "      <div>\n",
              "<style scoped>\n",
              "    .dataframe tbody tr th:only-of-type {\n",
              "        vertical-align: middle;\n",
              "    }\n",
              "\n",
              "    .dataframe tbody tr th {\n",
              "        vertical-align: top;\n",
              "    }\n",
              "\n",
              "    .dataframe thead th {\n",
              "        text-align: right;\n",
              "    }\n",
              "</style>\n",
              "<table border=\"1\" class=\"dataframe\">\n",
              "  <thead>\n",
              "    <tr style=\"text-align: right;\">\n",
              "      <th></th>\n",
              "      <th>date</th>\n",
              "      <th>time</th>\n",
              "      <th>consumption (w)</th>\n",
              "      <th>generation (w)</th>\n",
              "      <th>temperature (˚C)</th>\n",
              "      <th>humidity (%)</th>\n",
              "      <th>radiation (Wm^2)</th>\n",
              "      <th>isoweekday</th>\n",
              "      <th>period_of_day</th>\n",
              "    </tr>\n",
              "  </thead>\n",
              "  <tbody>\n",
              "    <tr>\n",
              "      <th>0</th>\n",
              "      <td>2019-01-01</td>\n",
              "      <td>00:05:00</td>\n",
              "      <td>2985</td>\n",
              "      <td>0</td>\n",
              "      <td>8.7</td>\n",
              "      <td>76.0</td>\n",
              "      <td>0.0</td>\n",
              "      <td>2</td>\n",
              "      <td>1</td>\n",
              "    </tr>\n",
              "    <tr>\n",
              "      <th>1</th>\n",
              "      <td>2019-01-01</td>\n",
              "      <td>00:10:00</td>\n",
              "      <td>2258</td>\n",
              "      <td>0</td>\n",
              "      <td>8.6</td>\n",
              "      <td>76.0</td>\n",
              "      <td>0.0</td>\n",
              "      <td>2</td>\n",
              "      <td>1</td>\n",
              "    </tr>\n",
              "    <tr>\n",
              "      <th>2</th>\n",
              "      <td>2019-01-01</td>\n",
              "      <td>00:15:00</td>\n",
              "      <td>2266</td>\n",
              "      <td>0</td>\n",
              "      <td>8.7</td>\n",
              "      <td>76.0</td>\n",
              "      <td>0.0</td>\n",
              "      <td>2</td>\n",
              "      <td>1</td>\n",
              "    </tr>\n",
              "    <tr>\n",
              "      <th>3</th>\n",
              "      <td>2019-01-01</td>\n",
              "      <td>00:20:00</td>\n",
              "      <td>3016</td>\n",
              "      <td>0</td>\n",
              "      <td>8.7</td>\n",
              "      <td>76.0</td>\n",
              "      <td>0.0</td>\n",
              "      <td>2</td>\n",
              "      <td>1</td>\n",
              "    </tr>\n",
              "    <tr>\n",
              "      <th>4</th>\n",
              "      <td>2019-01-01</td>\n",
              "      <td>00:25:00</td>\n",
              "      <td>2265</td>\n",
              "      <td>0</td>\n",
              "      <td>8.6</td>\n",
              "      <td>76.0</td>\n",
              "      <td>0.0</td>\n",
              "      <td>2</td>\n",
              "      <td>1</td>\n",
              "    </tr>\n",
              "  </tbody>\n",
              "</table>\n",
              "</div>\n",
              "      <button class=\"colab-df-convert\" onclick=\"convertToInteractive('df-9c22cf57-8d21-4545-9ee2-00664738bd95')\"\n",
              "              title=\"Convert this dataframe to an interactive table.\"\n",
              "              style=\"display:none;\">\n",
              "        \n",
              "  <svg xmlns=\"http://www.w3.org/2000/svg\" height=\"24px\"viewBox=\"0 0 24 24\"\n",
              "       width=\"24px\">\n",
              "    <path d=\"M0 0h24v24H0V0z\" fill=\"none\"/>\n",
              "    <path d=\"M18.56 5.44l.94 2.06.94-2.06 2.06-.94-2.06-.94-.94-2.06-.94 2.06-2.06.94zm-11 1L8.5 8.5l.94-2.06 2.06-.94-2.06-.94L8.5 2.5l-.94 2.06-2.06.94zm10 10l.94 2.06.94-2.06 2.06-.94-2.06-.94-.94-2.06-.94 2.06-2.06.94z\"/><path d=\"M17.41 7.96l-1.37-1.37c-.4-.4-.92-.59-1.43-.59-.52 0-1.04.2-1.43.59L10.3 9.45l-7.72 7.72c-.78.78-.78 2.05 0 2.83L4 21.41c.39.39.9.59 1.41.59.51 0 1.02-.2 1.41-.59l7.78-7.78 2.81-2.81c.8-.78.8-2.07 0-2.86zM5.41 20L4 18.59l7.72-7.72 1.47 1.35L5.41 20z\"/>\n",
              "  </svg>\n",
              "      </button>\n",
              "      \n",
              "  <style>\n",
              "    .colab-df-container {\n",
              "      display:flex;\n",
              "      flex-wrap:wrap;\n",
              "      gap: 12px;\n",
              "    }\n",
              "\n",
              "    .colab-df-convert {\n",
              "      background-color: #E8F0FE;\n",
              "      border: none;\n",
              "      border-radius: 50%;\n",
              "      cursor: pointer;\n",
              "      display: none;\n",
              "      fill: #1967D2;\n",
              "      height: 32px;\n",
              "      padding: 0 0 0 0;\n",
              "      width: 32px;\n",
              "    }\n",
              "\n",
              "    .colab-df-convert:hover {\n",
              "      background-color: #E2EBFA;\n",
              "      box-shadow: 0px 1px 2px rgba(60, 64, 67, 0.3), 0px 1px 3px 1px rgba(60, 64, 67, 0.15);\n",
              "      fill: #174EA6;\n",
              "    }\n",
              "\n",
              "    [theme=dark] .colab-df-convert {\n",
              "      background-color: #3B4455;\n",
              "      fill: #D2E3FC;\n",
              "    }\n",
              "\n",
              "    [theme=dark] .colab-df-convert:hover {\n",
              "      background-color: #434B5C;\n",
              "      box-shadow: 0px 1px 3px 1px rgba(0, 0, 0, 0.15);\n",
              "      filter: drop-shadow(0px 1px 2px rgba(0, 0, 0, 0.3));\n",
              "      fill: #FFFFFF;\n",
              "    }\n",
              "  </style>\n",
              "\n",
              "      <script>\n",
              "        const buttonEl =\n",
              "          document.querySelector('#df-9c22cf57-8d21-4545-9ee2-00664738bd95 button.colab-df-convert');\n",
              "        buttonEl.style.display =\n",
              "          google.colab.kernel.accessAllowed ? 'block' : 'none';\n",
              "\n",
              "        async function convertToInteractive(key) {\n",
              "          const element = document.querySelector('#df-9c22cf57-8d21-4545-9ee2-00664738bd95');\n",
              "          const dataTable =\n",
              "            await google.colab.kernel.invokeFunction('convertToInteractive',\n",
              "                                                     [key], {});\n",
              "          if (!dataTable) return;\n",
              "\n",
              "          const docLinkHtml = 'Like what you see? Visit the ' +\n",
              "            '<a target=\"_blank\" href=https://colab.research.google.com/notebooks/data_table.ipynb>data table notebook</a>'\n",
              "            + ' to learn more about interactive tables.';\n",
              "          element.innerHTML = '';\n",
              "          dataTable['output_type'] = 'display_data';\n",
              "          await google.colab.output.renderOutput(dataTable, element);\n",
              "          const docLink = document.createElement('div');\n",
              "          docLink.innerHTML = docLinkHtml;\n",
              "          element.appendChild(docLink);\n",
              "        }\n",
              "      </script>\n",
              "    </div>\n",
              "  </div>\n",
              "  "
            ],
            "text/plain": [
              "        date      time  ...  isoweekday  period_of_day\n",
              "0 2019-01-01  00:05:00  ...           2              1\n",
              "1 2019-01-01  00:10:00  ...           2              1\n",
              "2 2019-01-01  00:15:00  ...           2              1\n",
              "3 2019-01-01  00:20:00  ...           2              1\n",
              "4 2019-01-01  00:25:00  ...           2              1\n",
              "\n",
              "[5 rows x 9 columns]"
            ]
          },
          "metadata": {},
          "execution_count": 20
        }
      ]
    },
    {
      "cell_type": "code",
      "source": [
        "ds_mes.tail()"
      ],
      "metadata": {
        "id": "jX3D_834vLDY",
        "outputId": "464f4c31-2b0c-4455-f3d3-e631cb95f6a9",
        "colab": {
          "base_uri": "https://localhost:8080/",
          "height": 206
        }
      },
      "execution_count": null,
      "outputs": [
        {
          "output_type": "execute_result",
          "data": {
            "text/html": [
              "\n",
              "  <div id=\"df-55ff370b-04dc-46d7-9764-fd3e573d7fd0\">\n",
              "    <div class=\"colab-df-container\">\n",
              "      <div>\n",
              "<style scoped>\n",
              "    .dataframe tbody tr th:only-of-type {\n",
              "        vertical-align: middle;\n",
              "    }\n",
              "\n",
              "    .dataframe tbody tr th {\n",
              "        vertical-align: top;\n",
              "    }\n",
              "\n",
              "    .dataframe thead th {\n",
              "        text-align: right;\n",
              "    }\n",
              "</style>\n",
              "<table border=\"1\" class=\"dataframe\">\n",
              "  <thead>\n",
              "    <tr style=\"text-align: right;\">\n",
              "      <th></th>\n",
              "      <th>date</th>\n",
              "      <th>time</th>\n",
              "      <th>consumption (w)</th>\n",
              "      <th>generation (w)</th>\n",
              "      <th>temperature (˚C)</th>\n",
              "      <th>humidity (%)</th>\n",
              "      <th>radiation (Wm^2)</th>\n",
              "      <th>isoweekday</th>\n",
              "      <th>period_of_day</th>\n",
              "    </tr>\n",
              "  </thead>\n",
              "  <tbody>\n",
              "    <tr>\n",
              "      <th>8922</th>\n",
              "      <td>2019-01-31</td>\n",
              "      <td>23:35:00</td>\n",
              "      <td>2917</td>\n",
              "      <td>0</td>\n",
              "      <td>11.7</td>\n",
              "      <td>80.0</td>\n",
              "      <td>0.0</td>\n",
              "      <td>4</td>\n",
              "      <td>4</td>\n",
              "    </tr>\n",
              "    <tr>\n",
              "      <th>8923</th>\n",
              "      <td>2019-01-31</td>\n",
              "      <td>23:40:00</td>\n",
              "      <td>3990</td>\n",
              "      <td>0</td>\n",
              "      <td>11.8</td>\n",
              "      <td>79.0</td>\n",
              "      <td>0.0</td>\n",
              "      <td>4</td>\n",
              "      <td>4</td>\n",
              "    </tr>\n",
              "    <tr>\n",
              "      <th>8924</th>\n",
              "      <td>2019-01-31</td>\n",
              "      <td>23:45:00</td>\n",
              "      <td>3377</td>\n",
              "      <td>0</td>\n",
              "      <td>11.7</td>\n",
              "      <td>80.0</td>\n",
              "      <td>0.0</td>\n",
              "      <td>4</td>\n",
              "      <td>4</td>\n",
              "    </tr>\n",
              "    <tr>\n",
              "      <th>8925</th>\n",
              "      <td>2019-01-31</td>\n",
              "      <td>23:50:00</td>\n",
              "      <td>2647</td>\n",
              "      <td>0</td>\n",
              "      <td>11.2</td>\n",
              "      <td>81.0</td>\n",
              "      <td>0.0</td>\n",
              "      <td>4</td>\n",
              "      <td>4</td>\n",
              "    </tr>\n",
              "    <tr>\n",
              "      <th>8926</th>\n",
              "      <td>2019-01-31</td>\n",
              "      <td>23:55:00</td>\n",
              "      <td>4228</td>\n",
              "      <td>0</td>\n",
              "      <td>10.9</td>\n",
              "      <td>86.0</td>\n",
              "      <td>0.0</td>\n",
              "      <td>4</td>\n",
              "      <td>4</td>\n",
              "    </tr>\n",
              "  </tbody>\n",
              "</table>\n",
              "</div>\n",
              "      <button class=\"colab-df-convert\" onclick=\"convertToInteractive('df-55ff370b-04dc-46d7-9764-fd3e573d7fd0')\"\n",
              "              title=\"Convert this dataframe to an interactive table.\"\n",
              "              style=\"display:none;\">\n",
              "        \n",
              "  <svg xmlns=\"http://www.w3.org/2000/svg\" height=\"24px\"viewBox=\"0 0 24 24\"\n",
              "       width=\"24px\">\n",
              "    <path d=\"M0 0h24v24H0V0z\" fill=\"none\"/>\n",
              "    <path d=\"M18.56 5.44l.94 2.06.94-2.06 2.06-.94-2.06-.94-.94-2.06-.94 2.06-2.06.94zm-11 1L8.5 8.5l.94-2.06 2.06-.94-2.06-.94L8.5 2.5l-.94 2.06-2.06.94zm10 10l.94 2.06.94-2.06 2.06-.94-2.06-.94-.94-2.06-.94 2.06-2.06.94z\"/><path d=\"M17.41 7.96l-1.37-1.37c-.4-.4-.92-.59-1.43-.59-.52 0-1.04.2-1.43.59L10.3 9.45l-7.72 7.72c-.78.78-.78 2.05 0 2.83L4 21.41c.39.39.9.59 1.41.59.51 0 1.02-.2 1.41-.59l7.78-7.78 2.81-2.81c.8-.78.8-2.07 0-2.86zM5.41 20L4 18.59l7.72-7.72 1.47 1.35L5.41 20z\"/>\n",
              "  </svg>\n",
              "      </button>\n",
              "      \n",
              "  <style>\n",
              "    .colab-df-container {\n",
              "      display:flex;\n",
              "      flex-wrap:wrap;\n",
              "      gap: 12px;\n",
              "    }\n",
              "\n",
              "    .colab-df-convert {\n",
              "      background-color: #E8F0FE;\n",
              "      border: none;\n",
              "      border-radius: 50%;\n",
              "      cursor: pointer;\n",
              "      display: none;\n",
              "      fill: #1967D2;\n",
              "      height: 32px;\n",
              "      padding: 0 0 0 0;\n",
              "      width: 32px;\n",
              "    }\n",
              "\n",
              "    .colab-df-convert:hover {\n",
              "      background-color: #E2EBFA;\n",
              "      box-shadow: 0px 1px 2px rgba(60, 64, 67, 0.3), 0px 1px 3px 1px rgba(60, 64, 67, 0.15);\n",
              "      fill: #174EA6;\n",
              "    }\n",
              "\n",
              "    [theme=dark] .colab-df-convert {\n",
              "      background-color: #3B4455;\n",
              "      fill: #D2E3FC;\n",
              "    }\n",
              "\n",
              "    [theme=dark] .colab-df-convert:hover {\n",
              "      background-color: #434B5C;\n",
              "      box-shadow: 0px 1px 3px 1px rgba(0, 0, 0, 0.15);\n",
              "      filter: drop-shadow(0px 1px 2px rgba(0, 0, 0, 0.3));\n",
              "      fill: #FFFFFF;\n",
              "    }\n",
              "  </style>\n",
              "\n",
              "      <script>\n",
              "        const buttonEl =\n",
              "          document.querySelector('#df-55ff370b-04dc-46d7-9764-fd3e573d7fd0 button.colab-df-convert');\n",
              "        buttonEl.style.display =\n",
              "          google.colab.kernel.accessAllowed ? 'block' : 'none';\n",
              "\n",
              "        async function convertToInteractive(key) {\n",
              "          const element = document.querySelector('#df-55ff370b-04dc-46d7-9764-fd3e573d7fd0');\n",
              "          const dataTable =\n",
              "            await google.colab.kernel.invokeFunction('convertToInteractive',\n",
              "                                                     [key], {});\n",
              "          if (!dataTable) return;\n",
              "\n",
              "          const docLinkHtml = 'Like what you see? Visit the ' +\n",
              "            '<a target=\"_blank\" href=https://colab.research.google.com/notebooks/data_table.ipynb>data table notebook</a>'\n",
              "            + ' to learn more about interactive tables.';\n",
              "          element.innerHTML = '';\n",
              "          dataTable['output_type'] = 'display_data';\n",
              "          await google.colab.output.renderOutput(dataTable, element);\n",
              "          const docLink = document.createElement('div');\n",
              "          docLink.innerHTML = docLinkHtml;\n",
              "          element.appendChild(docLink);\n",
              "        }\n",
              "      </script>\n",
              "    </div>\n",
              "  </div>\n",
              "  "
            ],
            "text/plain": [
              "           date      time  ...  isoweekday  period_of_day\n",
              "8922 2019-01-31  23:35:00  ...           4              4\n",
              "8923 2019-01-31  23:40:00  ...           4              4\n",
              "8924 2019-01-31  23:45:00  ...           4              4\n",
              "8925 2019-01-31  23:50:00  ...           4              4\n",
              "8926 2019-01-31  23:55:00  ...           4              4\n",
              "\n",
              "[5 rows x 9 columns]"
            ]
          },
          "metadata": {},
          "execution_count": 21
        }
      ]
    },
    {
      "cell_type": "code",
      "source": [
        "ds_mes.info()"
      ],
      "metadata": {
        "colab": {
          "base_uri": "https://localhost:8080/"
        },
        "id": "ZpLo8lk6FUw0",
        "outputId": "0a88b307-d7e8-42fa-b57f-f715a9469fa2"
      },
      "execution_count": null,
      "outputs": [
        {
          "output_type": "stream",
          "name": "stdout",
          "text": [
            "<class 'pandas.core.frame.DataFrame'>\n",
            "Int64Index: 8927 entries, 0 to 8926\n",
            "Data columns (total 9 columns):\n",
            " #   Column            Non-Null Count  Dtype         \n",
            "---  ------            --------------  -----         \n",
            " 0   date              8927 non-null   datetime64[ns]\n",
            " 1   time              8927 non-null   object        \n",
            " 2   consumption (w)   8927 non-null   int64         \n",
            " 3   generation (w)    8927 non-null   int64         \n",
            " 4   temperature (˚C)  8927 non-null   float64       \n",
            " 5   humidity (%)      8927 non-null   float64       \n",
            " 6   radiation (Wm^2)  8927 non-null   float64       \n",
            " 7   isoweekday        8927 non-null   int64         \n",
            " 8   period_of_day     8927 non-null   int64         \n",
            "dtypes: datetime64[ns](1), float64(3), int64(4), object(1)\n",
            "memory usage: 697.4+ KB\n"
          ]
        }
      ]
    },
    {
      "cell_type": "markdown",
      "source": [
        "#Bibliografia"
      ],
      "metadata": {
        "id": "aSAc6y9LZbBB"
      }
    },
    {
      "cell_type": "markdown",
      "source": [
        "*   Dataset gecad - smartgridcompetitions<br>\n",
        "http://www.gecad.isep.ipp.pt/smartgridcompetitions/data/\n",
        "\n",
        "*   Python<br>\n",
        "https://docs.python.org/3.7/library/datetime.html#module-datetime<br>\n",
        "https://docs.python.org/3.7/library/datetime.html#datetime.datetime<br>\n",
        "https://docs.python.org/3/library/datetime.html<br>\n",
        "https://estatsite.com.br/2019/04/30/join-merge-no-python-pandas/<br>\n",
        "https://medium.com/analytics-vidhya/how-to-pd-merge-two-data-frames-on-a-common-date-column-e7808d7ccaee<br>\n",
        "https://www.analyticsvidhya.com/blog/2020/05/datetime-variables-python-pandas/\n",
        "\n",
        "\n",
        "\n",
        "*   Pandas<br>\n",
        "https://pandas.pydata.org/docs/getting_started/index.html#getting-started<br>\n",
        "https://pandas.pydata.org/pandas-docs/stable/reference/api/pandas.to_datetime.html<br>\n",
        "https://pandas.pydata.org/docs/reference/api/pandas.Series.dt.date.html?highlight=date#pandas.Series.dt.date<br>\n",
        "https://pandas.pydata.org/docs/reference/api/pandas.Series.apply.html<br>\n",
        "https://pandas.pydata.org/docs/reference/api/pandas.read_excel.html<br>\n",
        "https://stackoverflow.com/questions/26521266/using-pandas-to-pd-read-excel-for-multiple-worksheets-of-the-same-workbook<br>\n",
        "https://www.delftstack.com/pt/howto/python-pandas/pandas-unique-values-in-column/<br>\n",
        "\n"
      ],
      "metadata": {
        "id": "LgPUMMKpZgNe"
      }
    }
  ]
}