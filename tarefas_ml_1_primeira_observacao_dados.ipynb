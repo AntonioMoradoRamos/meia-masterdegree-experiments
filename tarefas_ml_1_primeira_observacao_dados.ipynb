{
  "nbformat": 4,
  "nbformat_minor": 0,
  "metadata": {
    "colab": {
      "name": "tarefas_ml_1_primeira_observacao_dados.ipynb",
      "provenance": [],
      "collapsed_sections": [],
      "authorship_tag": "ABX9TyM84PseGuWDJ65X9Jem41UI",
      "include_colab_link": true
    },
    "kernelspec": {
      "name": "python3",
      "display_name": "Python 3"
    },
    "language_info": {
      "name": "python"
    }
  },
  "cells": [
    {
      "cell_type": "markdown",
      "metadata": {
        "id": "view-in-github",
        "colab_type": "text"
      },
      "source": [
        "<a href=\"https://colab.research.google.com/github/AntonioMoradoRamos/meia-masterdegree-experiments/blob/main/tarefas_ml_1_primeira_observacao_dados.ipynb\" target=\"_parent\"><img src=\"https://colab.research.google.com/assets/colab-badge.svg\" alt=\"Open In Colab\"/></a>"
      ]
    },
    {
      "cell_type": "markdown",
      "source": [
        "# Primeira Observação dos Dados"
      ],
      "metadata": {
        "id": "JTSkKC8R_Dxc"
      }
    },
    {
      "cell_type": "markdown",
      "source": [
        "Ficheiro \"data1.xlsx\" (Full Year of historical data (1st data set) (53 907 KB) ).<br>\n",
        "Importar o ficheiro para o colab.<br>\n",
        "\n",
        "O dataset \"ds_building_energy\" corresponde à folha \"building_energy\"<br>\n",
        "O dataset \"ds_weather_data\" corresponde à folha \"weather_data\"<br>\n",
        "\n"
      ],
      "metadata": {
        "id": "IGssN8x_Wmwz"
      }
    },
    {
      "cell_type": "markdown",
      "source": [
        "##Bibliotecas"
      ],
      "metadata": {
        "id": "JdoUuR3i_G_F"
      }
    },
    {
      "cell_type": "code",
      "execution_count": null,
      "metadata": {
        "id": "L6zIA77t9hlU"
      },
      "outputs": [],
      "source": [
        "import pandas as pd\n",
        "\n",
        "from datetime import date"
      ]
    },
    {
      "cell_type": "code",
      "source": [
        "# Versão do python\n",
        "!python --version"
      ],
      "metadata": {
        "id": "OT58OfkEZ7gF",
        "colab": {
          "base_uri": "https://localhost:8080/"
        },
        "outputId": "72282d33-1289-40b1-f16a-2a680c6a7b3e"
      },
      "execution_count": null,
      "outputs": [
        {
          "output_type": "stream",
          "name": "stdout",
          "text": [
            "Python 3.7.12\n"
          ]
        }
      ]
    },
    {
      "cell_type": "code",
      "source": [
        "# Versão do panas\n",
        "print(pd.__version__)"
      ],
      "metadata": {
        "colab": {
          "base_uri": "https://localhost:8080/"
        },
        "id": "XqGhrfra76Ae",
        "outputId": "fd855747-5030-43df-9abb-1d9892d073d7"
      },
      "execution_count": null,
      "outputs": [
        {
          "output_type": "stream",
          "name": "stdout",
          "text": [
            "1.1.5\n"
          ]
        }
      ]
    },
    {
      "cell_type": "markdown",
      "source": [
        "##Carregar os conjuntos de dados"
      ],
      "metadata": {
        "id": "rqDDwCox_Jw1"
      }
    },
    {
      "cell_type": "code",
      "source": [
        "def load_excel_data():\n",
        "  return pd.ExcelFile('data1.xlsx')"
      ],
      "metadata": {
        "id": "yulJR77vvoJ6"
      },
      "execution_count": null,
      "outputs": []
    },
    {
      "cell_type": "code",
      "source": [
        "xsls = load_excel_data()"
      ],
      "metadata": {
        "id": "yWml1PPjtpJj"
      },
      "execution_count": null,
      "outputs": []
    },
    {
      "cell_type": "code",
      "source": [
        "ds_building_energy = pd.read_excel(xsls, 'building_energy')\n",
        "ds_weather_data = pd.read_excel(xsls, 'weather_data')"
      ],
      "metadata": {
        "id": "QRsqEI3H4LjM"
      },
      "execution_count": null,
      "outputs": []
    },
    {
      "cell_type": "markdown",
      "source": [
        "## Análise exploratória"
      ],
      "metadata": {
        "id": "3hXokDLz4ogZ"
      }
    },
    {
      "cell_type": "code",
      "source": [
        "ds_building_energy.head()"
      ],
      "metadata": {
        "colab": {
          "base_uri": "https://localhost:8080/",
          "height": 206
        },
        "id": "O-UZqki85jfv",
        "outputId": "268d5465-964d-46fc-ce44-cf8207d6bca2"
      },
      "execution_count": null,
      "outputs": [
        {
          "output_type": "execute_result",
          "data": {
            "text/html": [
              "\n",
              "  <div id=\"df-0c82a587-9ba4-40ef-a7a4-61c4400f36c4\">\n",
              "    <div class=\"colab-df-container\">\n",
              "      <div>\n",
              "<style scoped>\n",
              "    .dataframe tbody tr th:only-of-type {\n",
              "        vertical-align: middle;\n",
              "    }\n",
              "\n",
              "    .dataframe tbody tr th {\n",
              "        vertical-align: top;\n",
              "    }\n",
              "\n",
              "    .dataframe thead th {\n",
              "        text-align: right;\n",
              "    }\n",
              "</style>\n",
              "<table border=\"1\" class=\"dataframe\">\n",
              "  <thead>\n",
              "    <tr style=\"text-align: right;\">\n",
              "      <th></th>\n",
              "      <th>date</th>\n",
              "      <th>time</th>\n",
              "      <th>consumption (w)</th>\n",
              "      <th>generation (w)</th>\n",
              "    </tr>\n",
              "  </thead>\n",
              "  <tbody>\n",
              "    <tr>\n",
              "      <th>0</th>\n",
              "      <td>2019-01-01</td>\n",
              "      <td>00:05:00</td>\n",
              "      <td>2985</td>\n",
              "      <td>0</td>\n",
              "    </tr>\n",
              "    <tr>\n",
              "      <th>1</th>\n",
              "      <td>2019-01-01</td>\n",
              "      <td>00:10:00</td>\n",
              "      <td>2258</td>\n",
              "      <td>0</td>\n",
              "    </tr>\n",
              "    <tr>\n",
              "      <th>2</th>\n",
              "      <td>2019-01-01</td>\n",
              "      <td>00:15:00</td>\n",
              "      <td>2266</td>\n",
              "      <td>0</td>\n",
              "    </tr>\n",
              "    <tr>\n",
              "      <th>3</th>\n",
              "      <td>2019-01-01</td>\n",
              "      <td>00:20:00</td>\n",
              "      <td>3016</td>\n",
              "      <td>0</td>\n",
              "    </tr>\n",
              "    <tr>\n",
              "      <th>4</th>\n",
              "      <td>2019-01-01</td>\n",
              "      <td>00:25:00</td>\n",
              "      <td>2265</td>\n",
              "      <td>0</td>\n",
              "    </tr>\n",
              "  </tbody>\n",
              "</table>\n",
              "</div>\n",
              "      <button class=\"colab-df-convert\" onclick=\"convertToInteractive('df-0c82a587-9ba4-40ef-a7a4-61c4400f36c4')\"\n",
              "              title=\"Convert this dataframe to an interactive table.\"\n",
              "              style=\"display:none;\">\n",
              "        \n",
              "  <svg xmlns=\"http://www.w3.org/2000/svg\" height=\"24px\"viewBox=\"0 0 24 24\"\n",
              "       width=\"24px\">\n",
              "    <path d=\"M0 0h24v24H0V0z\" fill=\"none\"/>\n",
              "    <path d=\"M18.56 5.44l.94 2.06.94-2.06 2.06-.94-2.06-.94-.94-2.06-.94 2.06-2.06.94zm-11 1L8.5 8.5l.94-2.06 2.06-.94-2.06-.94L8.5 2.5l-.94 2.06-2.06.94zm10 10l.94 2.06.94-2.06 2.06-.94-2.06-.94-.94-2.06-.94 2.06-2.06.94z\"/><path d=\"M17.41 7.96l-1.37-1.37c-.4-.4-.92-.59-1.43-.59-.52 0-1.04.2-1.43.59L10.3 9.45l-7.72 7.72c-.78.78-.78 2.05 0 2.83L4 21.41c.39.39.9.59 1.41.59.51 0 1.02-.2 1.41-.59l7.78-7.78 2.81-2.81c.8-.78.8-2.07 0-2.86zM5.41 20L4 18.59l7.72-7.72 1.47 1.35L5.41 20z\"/>\n",
              "  </svg>\n",
              "      </button>\n",
              "      \n",
              "  <style>\n",
              "    .colab-df-container {\n",
              "      display:flex;\n",
              "      flex-wrap:wrap;\n",
              "      gap: 12px;\n",
              "    }\n",
              "\n",
              "    .colab-df-convert {\n",
              "      background-color: #E8F0FE;\n",
              "      border: none;\n",
              "      border-radius: 50%;\n",
              "      cursor: pointer;\n",
              "      display: none;\n",
              "      fill: #1967D2;\n",
              "      height: 32px;\n",
              "      padding: 0 0 0 0;\n",
              "      width: 32px;\n",
              "    }\n",
              "\n",
              "    .colab-df-convert:hover {\n",
              "      background-color: #E2EBFA;\n",
              "      box-shadow: 0px 1px 2px rgba(60, 64, 67, 0.3), 0px 1px 3px 1px rgba(60, 64, 67, 0.15);\n",
              "      fill: #174EA6;\n",
              "    }\n",
              "\n",
              "    [theme=dark] .colab-df-convert {\n",
              "      background-color: #3B4455;\n",
              "      fill: #D2E3FC;\n",
              "    }\n",
              "\n",
              "    [theme=dark] .colab-df-convert:hover {\n",
              "      background-color: #434B5C;\n",
              "      box-shadow: 0px 1px 3px 1px rgba(0, 0, 0, 0.15);\n",
              "      filter: drop-shadow(0px 1px 2px rgba(0, 0, 0, 0.3));\n",
              "      fill: #FFFFFF;\n",
              "    }\n",
              "  </style>\n",
              "\n",
              "      <script>\n",
              "        const buttonEl =\n",
              "          document.querySelector('#df-0c82a587-9ba4-40ef-a7a4-61c4400f36c4 button.colab-df-convert');\n",
              "        buttonEl.style.display =\n",
              "          google.colab.kernel.accessAllowed ? 'block' : 'none';\n",
              "\n",
              "        async function convertToInteractive(key) {\n",
              "          const element = document.querySelector('#df-0c82a587-9ba4-40ef-a7a4-61c4400f36c4');\n",
              "          const dataTable =\n",
              "            await google.colab.kernel.invokeFunction('convertToInteractive',\n",
              "                                                     [key], {});\n",
              "          if (!dataTable) return;\n",
              "\n",
              "          const docLinkHtml = 'Like what you see? Visit the ' +\n",
              "            '<a target=\"_blank\" href=https://colab.research.google.com/notebooks/data_table.ipynb>data table notebook</a>'\n",
              "            + ' to learn more about interactive tables.';\n",
              "          element.innerHTML = '';\n",
              "          dataTable['output_type'] = 'display_data';\n",
              "          await google.colab.output.renderOutput(dataTable, element);\n",
              "          const docLink = document.createElement('div');\n",
              "          docLink.innerHTML = docLinkHtml;\n",
              "          element.appendChild(docLink);\n",
              "        }\n",
              "      </script>\n",
              "    </div>\n",
              "  </div>\n",
              "  "
            ],
            "text/plain": [
              "        date      time  consumption (w)  generation (w)\n",
              "0 2019-01-01  00:05:00             2985               0\n",
              "1 2019-01-01  00:10:00             2258               0\n",
              "2 2019-01-01  00:15:00             2266               0\n",
              "3 2019-01-01  00:20:00             3016               0\n",
              "4 2019-01-01  00:25:00             2265               0"
            ]
          },
          "metadata": {},
          "execution_count": 12
        }
      ]
    },
    {
      "cell_type": "code",
      "source": [
        "ds_weather_data.head()"
      ],
      "metadata": {
        "colab": {
          "base_uri": "https://localhost:8080/",
          "height": 206
        },
        "id": "hXg1bapt5gWm",
        "outputId": "835bc994-38ef-411b-927c-1b9b83053399"
      },
      "execution_count": null,
      "outputs": [
        {
          "output_type": "execute_result",
          "data": {
            "text/html": [
              "\n",
              "  <div id=\"df-39749ac8-fcd4-4d47-bd8c-f1e8d3b8ea8c\">\n",
              "    <div class=\"colab-df-container\">\n",
              "      <div>\n",
              "<style scoped>\n",
              "    .dataframe tbody tr th:only-of-type {\n",
              "        vertical-align: middle;\n",
              "    }\n",
              "\n",
              "    .dataframe tbody tr th {\n",
              "        vertical-align: top;\n",
              "    }\n",
              "\n",
              "    .dataframe thead th {\n",
              "        text-align: right;\n",
              "    }\n",
              "</style>\n",
              "<table border=\"1\" class=\"dataframe\">\n",
              "  <thead>\n",
              "    <tr style=\"text-align: right;\">\n",
              "      <th></th>\n",
              "      <th>datetime (epoch)</th>\n",
              "      <th>temperature (˚C)</th>\n",
              "      <th>humidity (%)</th>\n",
              "      <th>radiation (Wm^2)</th>\n",
              "    </tr>\n",
              "  </thead>\n",
              "  <tbody>\n",
              "    <tr>\n",
              "      <th>0</th>\n",
              "      <td>1546301100</td>\n",
              "      <td>8.7</td>\n",
              "      <td>76.0</td>\n",
              "      <td>0.0</td>\n",
              "    </tr>\n",
              "    <tr>\n",
              "      <th>1</th>\n",
              "      <td>1546301400</td>\n",
              "      <td>8.6</td>\n",
              "      <td>76.0</td>\n",
              "      <td>0.0</td>\n",
              "    </tr>\n",
              "    <tr>\n",
              "      <th>2</th>\n",
              "      <td>1546301700</td>\n",
              "      <td>8.7</td>\n",
              "      <td>76.0</td>\n",
              "      <td>0.0</td>\n",
              "    </tr>\n",
              "    <tr>\n",
              "      <th>3</th>\n",
              "      <td>1546302000</td>\n",
              "      <td>8.7</td>\n",
              "      <td>76.0</td>\n",
              "      <td>0.0</td>\n",
              "    </tr>\n",
              "    <tr>\n",
              "      <th>4</th>\n",
              "      <td>1546302300</td>\n",
              "      <td>8.6</td>\n",
              "      <td>76.0</td>\n",
              "      <td>0.0</td>\n",
              "    </tr>\n",
              "  </tbody>\n",
              "</table>\n",
              "</div>\n",
              "      <button class=\"colab-df-convert\" onclick=\"convertToInteractive('df-39749ac8-fcd4-4d47-bd8c-f1e8d3b8ea8c')\"\n",
              "              title=\"Convert this dataframe to an interactive table.\"\n",
              "              style=\"display:none;\">\n",
              "        \n",
              "  <svg xmlns=\"http://www.w3.org/2000/svg\" height=\"24px\"viewBox=\"0 0 24 24\"\n",
              "       width=\"24px\">\n",
              "    <path d=\"M0 0h24v24H0V0z\" fill=\"none\"/>\n",
              "    <path d=\"M18.56 5.44l.94 2.06.94-2.06 2.06-.94-2.06-.94-.94-2.06-.94 2.06-2.06.94zm-11 1L8.5 8.5l.94-2.06 2.06-.94-2.06-.94L8.5 2.5l-.94 2.06-2.06.94zm10 10l.94 2.06.94-2.06 2.06-.94-2.06-.94-.94-2.06-.94 2.06-2.06.94z\"/><path d=\"M17.41 7.96l-1.37-1.37c-.4-.4-.92-.59-1.43-.59-.52 0-1.04.2-1.43.59L10.3 9.45l-7.72 7.72c-.78.78-.78 2.05 0 2.83L4 21.41c.39.39.9.59 1.41.59.51 0 1.02-.2 1.41-.59l7.78-7.78 2.81-2.81c.8-.78.8-2.07 0-2.86zM5.41 20L4 18.59l7.72-7.72 1.47 1.35L5.41 20z\"/>\n",
              "  </svg>\n",
              "      </button>\n",
              "      \n",
              "  <style>\n",
              "    .colab-df-container {\n",
              "      display:flex;\n",
              "      flex-wrap:wrap;\n",
              "      gap: 12px;\n",
              "    }\n",
              "\n",
              "    .colab-df-convert {\n",
              "      background-color: #E8F0FE;\n",
              "      border: none;\n",
              "      border-radius: 50%;\n",
              "      cursor: pointer;\n",
              "      display: none;\n",
              "      fill: #1967D2;\n",
              "      height: 32px;\n",
              "      padding: 0 0 0 0;\n",
              "      width: 32px;\n",
              "    }\n",
              "\n",
              "    .colab-df-convert:hover {\n",
              "      background-color: #E2EBFA;\n",
              "      box-shadow: 0px 1px 2px rgba(60, 64, 67, 0.3), 0px 1px 3px 1px rgba(60, 64, 67, 0.15);\n",
              "      fill: #174EA6;\n",
              "    }\n",
              "\n",
              "    [theme=dark] .colab-df-convert {\n",
              "      background-color: #3B4455;\n",
              "      fill: #D2E3FC;\n",
              "    }\n",
              "\n",
              "    [theme=dark] .colab-df-convert:hover {\n",
              "      background-color: #434B5C;\n",
              "      box-shadow: 0px 1px 3px 1px rgba(0, 0, 0, 0.15);\n",
              "      filter: drop-shadow(0px 1px 2px rgba(0, 0, 0, 0.3));\n",
              "      fill: #FFFFFF;\n",
              "    }\n",
              "  </style>\n",
              "\n",
              "      <script>\n",
              "        const buttonEl =\n",
              "          document.querySelector('#df-39749ac8-fcd4-4d47-bd8c-f1e8d3b8ea8c button.colab-df-convert');\n",
              "        buttonEl.style.display =\n",
              "          google.colab.kernel.accessAllowed ? 'block' : 'none';\n",
              "\n",
              "        async function convertToInteractive(key) {\n",
              "          const element = document.querySelector('#df-39749ac8-fcd4-4d47-bd8c-f1e8d3b8ea8c');\n",
              "          const dataTable =\n",
              "            await google.colab.kernel.invokeFunction('convertToInteractive',\n",
              "                                                     [key], {});\n",
              "          if (!dataTable) return;\n",
              "\n",
              "          const docLinkHtml = 'Like what you see? Visit the ' +\n",
              "            '<a target=\"_blank\" href=https://colab.research.google.com/notebooks/data_table.ipynb>data table notebook</a>'\n",
              "            + ' to learn more about interactive tables.';\n",
              "          element.innerHTML = '';\n",
              "          dataTable['output_type'] = 'display_data';\n",
              "          await google.colab.output.renderOutput(dataTable, element);\n",
              "          const docLink = document.createElement('div');\n",
              "          docLink.innerHTML = docLinkHtml;\n",
              "          element.appendChild(docLink);\n",
              "        }\n",
              "      </script>\n",
              "    </div>\n",
              "  </div>\n",
              "  "
            ],
            "text/plain": [
              "   datetime (epoch)  temperature (˚C)  humidity (%)  radiation (Wm^2)\n",
              "0        1546301100               8.7          76.0               0.0\n",
              "1        1546301400               8.6          76.0               0.0\n",
              "2        1546301700               8.7          76.0               0.0\n",
              "3        1546302000               8.7          76.0               0.0\n",
              "4        1546302300               8.6          76.0               0.0"
            ]
          },
          "metadata": {},
          "execution_count": 11
        }
      ]
    },
    {
      "cell_type": "code",
      "source": [
        "ds_building_energy.info()"
      ],
      "metadata": {
        "colab": {
          "base_uri": "https://localhost:8080/"
        },
        "id": "CPB1FP4B6Kw9",
        "outputId": "4383e23c-047e-4efc-ae91-15b63d09740e"
      },
      "execution_count": null,
      "outputs": [
        {
          "output_type": "stream",
          "name": "stdout",
          "text": [
            "<class 'pandas.core.frame.DataFrame'>\n",
            "RangeIndex: 105120 entries, 0 to 105119\n",
            "Data columns (total 4 columns):\n",
            " #   Column           Non-Null Count   Dtype         \n",
            "---  ------           --------------   -----         \n",
            " 0   date             105120 non-null  datetime64[ns]\n",
            " 1   time             105120 non-null  object        \n",
            " 2   consumption (w)  105120 non-null  int64         \n",
            " 3   generation (w)   105120 non-null  int64         \n",
            "dtypes: datetime64[ns](1), int64(2), object(1)\n",
            "memory usage: 3.2+ MB\n"
          ]
        }
      ]
    },
    {
      "cell_type": "code",
      "source": [
        "ds_weather_data.info()"
      ],
      "metadata": {
        "colab": {
          "base_uri": "https://localhost:8080/"
        },
        "id": "6brD6M0p6NDL",
        "outputId": "0da0f1e8-36af-4876-8c22-fcb29f929bc9"
      },
      "execution_count": null,
      "outputs": [
        {
          "output_type": "stream",
          "name": "stdout",
          "text": [
            "<class 'pandas.core.frame.DataFrame'>\n",
            "RangeIndex: 97191 entries, 0 to 97190\n",
            "Data columns (total 4 columns):\n",
            " #   Column            Non-Null Count  Dtype  \n",
            "---  ------            --------------  -----  \n",
            " 0   datetime (epoch)  97191 non-null  int64  \n",
            " 1   temperature (˚C)  95387 non-null  float64\n",
            " 2   humidity (%)      95364 non-null  float64\n",
            " 3   radiation (Wm^2)  95092 non-null  float64\n",
            "dtypes: float64(3), int64(1)\n",
            "memory usage: 3.0 MB\n"
          ]
        }
      ]
    },
    {
      "cell_type": "markdown",
      "source": [
        "### Observação dos registo do mês de janeiro"
      ],
      "metadata": {
        "id": "W-T9L5vb8EoH"
      }
    },
    {
      "cell_type": "code",
      "source": [
        "def convert_int64_to_timestamp(dateAsInt64):\n",
        "  #print(\"datetime as int64: \" , dateAsInt64)\n",
        "  theTimeStamp = pd.to_datetime(dateAsInt64, unit='s')\n",
        "  #print(\"datetime as timestamp: \" , theTimeStamp)\n",
        "\n",
        "  return theTimeStamp"
      ],
      "metadata": {
        "id": "98TjOhuY9F3V"
      },
      "execution_count": null,
      "outputs": []
    },
    {
      "cell_type": "code",
      "source": [
        "def split_timestamp_to_date_and_time(ds, date_time_feature_name):\n",
        "  series_date =  pd.to_datetime(convert_int64_to_timestamp(ds[date_time_feature_name]))\n",
        "  # Para além de obter a data, i.e., o ano, o mês e o dia, é preciso garantir que o tipo de dados é datetime64\n",
        "  # Este é o tipo de dados dos outros conjuntos de dados. \n",
        "  # É preciso que seja igual para realizar o merge\n",
        "  ds['date'] = pd.to_datetime(pd.to_datetime(series_date).dt.date) \n",
        "\n",
        "  series_time =  pd.to_datetime(convert_int64_to_timestamp(ds[date_time_feature_name]))\n",
        "  ds['time'] = pd.to_datetime(series_time).dt.time\n",
        "\n",
        "  return ds"
      ],
      "metadata": {
        "id": "4SSRl4WH9BAP"
      },
      "execution_count": null,
      "outputs": []
    },
    {
      "cell_type": "code",
      "source": [
        "def ds_janeiro(ds):\n",
        "  query = \"date >= 20190101 and date <= 20190131\"\n",
        "  return ds.query(query);"
      ],
      "metadata": {
        "id": "gP7qiM268IJX"
      },
      "execution_count": null,
      "outputs": []
    },
    {
      "cell_type": "code",
      "source": [
        "ds_building_energy_janeiro = ds_janeiro(ds_building_energy)"
      ],
      "metadata": {
        "id": "wOLdH3Qm9LZ5"
      },
      "execution_count": null,
      "outputs": []
    },
    {
      "cell_type": "code",
      "source": [
        "ds_weather_data_date_and_time = split_timestamp_to_date_and_time(ds_weather_data, \"datetime (epoch)\")\n",
        "ds_weather_data_date_and_time_janeiro = ds_janeiro(ds_weather_data_date_and_time)"
      ],
      "metadata": {
        "id": "-kEgU5dL9UDV"
      },
      "execution_count": null,
      "outputs": []
    },
    {
      "cell_type": "code",
      "source": [
        "ds_building_energy_janeiro.info()"
      ],
      "metadata": {
        "colab": {
          "base_uri": "https://localhost:8080/"
        },
        "id": "b5Jwa7RP9vAV",
        "outputId": "2eb6943b-8df8-43a1-c2ea-14b1c7a88ead"
      },
      "execution_count": null,
      "outputs": [
        {
          "output_type": "stream",
          "name": "stdout",
          "text": [
            "<class 'pandas.core.frame.DataFrame'>\n",
            "Int64Index: 8927 entries, 0 to 8926\n",
            "Data columns (total 4 columns):\n",
            " #   Column           Non-Null Count  Dtype         \n",
            "---  ------           --------------  -----         \n",
            " 0   date             8927 non-null   datetime64[ns]\n",
            " 1   time             8927 non-null   object        \n",
            " 2   consumption (w)  8927 non-null   int64         \n",
            " 3   generation (w)   8927 non-null   int64         \n",
            "dtypes: datetime64[ns](1), int64(2), object(1)\n",
            "memory usage: 348.7+ KB\n"
          ]
        }
      ]
    },
    {
      "cell_type": "code",
      "source": [
        "ds_weather_data_date_and_time_janeiro.info()"
      ],
      "metadata": {
        "colab": {
          "base_uri": "https://localhost:8080/"
        },
        "id": "OWnrbYFj90g0",
        "outputId": "e650fd7c-db31-408e-e7dd-b7f297c5fe96"
      },
      "execution_count": null,
      "outputs": [
        {
          "output_type": "stream",
          "name": "stdout",
          "text": [
            "<class 'pandas.core.frame.DataFrame'>\n",
            "Int64Index: 8927 entries, 0 to 8926\n",
            "Data columns (total 6 columns):\n",
            " #   Column            Non-Null Count  Dtype         \n",
            "---  ------            --------------  -----         \n",
            " 0   datetime (epoch)  8927 non-null   int64         \n",
            " 1   temperature (˚C)  8927 non-null   float64       \n",
            " 2   humidity (%)      8927 non-null   float64       \n",
            " 3   radiation (Wm^2)  8927 non-null   float64       \n",
            " 4   date              8927 non-null   datetime64[ns]\n",
            " 5   time              8927 non-null   object        \n",
            "dtypes: datetime64[ns](1), float64(3), int64(1), object(1)\n",
            "memory usage: 488.2+ KB\n"
          ]
        }
      ]
    },
    {
      "cell_type": "markdown",
      "source": [
        "## Conclusões"
      ],
      "metadata": {
        "id": "DvhcW2sS5ldf"
      }
    },
    {
      "cell_type": "markdown",
      "source": [
        "\n",
        "\n",
        "1.   O conjunto de dados \"ds_weather_data\" não apresenta a data dividida em dois atributos \"date\" e \"time\" como no conjunto de dados \"ds_building_energy\"\n",
        "\n",
        "> *    Será preciso uniformizar os atributos. Optou-se por ter os dois atributos \"date\" e \"time\". Desta forma será mais fácil distinguir unidades temporais como o dia e a hora do registo.<br>\n",
        "*    A união entre os dois conjuntos de dados será realizada com os atributos \"date\" e \"time\"\n",
        "*    Os tipos de dados dos atributos \"date\" e \"time\" terão de ser igual nos dois conjuntos.\n",
        "\n",
        "\n",
        "2.   O conjunto de dados \"ds_building_energy\" apresenta 105120 registos e o \"ds_weather_data\" apresenta 97191. Portanto, o segundo conjunto de dados contém menos registos.\n",
        "\n",
        "> *    Ter em atenção na operação de merge para que não existam registos sem dados.\n",
        "\n",
        "3.   Nos conjuntos de dados \"ds_building_energy\" e \"ds_weather_data\" todos os registos contém dados, pois estes apresentam o valor \"non-null\"\n",
        "\n",
        "4.   Análise do mês de janeiro\n",
        "\n",
        "> *   Nos dois conjuntos de dados todos os registos contém dados, pois estes apresentam o valor \"non-null\"\n",
        "*   Os dois conjuntos de dados obtidos apresentam o mesmo número de registo de 8927 entradas\n",
        "\n",
        "\n"
      ],
      "metadata": {
        "id": "5djENI4g5nCT"
      }
    },
    {
      "cell_type": "markdown",
      "source": [
        "#Bibliografia"
      ],
      "metadata": {
        "id": "aSAc6y9LZbBB"
      }
    },
    {
      "cell_type": "markdown",
      "source": [
        "*   Dataset gecad - smartgridcompetitions<br>\n",
        "http://www.gecad.isep.ipp.pt/smartgridcompetitions/data/\n",
        "\n",
        "*   Python<br>\n",
        "https://docs.python.org/3.7/library/datetime.html#module-datetime<br>\n",
        "https://docs.python.org/3.7/library/datetime.html#datetime.datetime<br>\n",
        "https://docs.python.org/3/library/datetime.html\n",
        "\n",
        "\n",
        "*   Pandas<br>\n",
        "https://stackoverflow.com/questions/26521266/using-pandas-to-pd-read-excel-for-multiple-worksheets-of-the-same-workbook<br>\n",
        "https://pandas.pydata.org/docs/reference/api/pandas.read_excel.html<br>\n",
        "https://pandas.pydata.org/docs/getting_started/index.html#getting-started<br>\n",
        "https://pandas.pydata.org/pandas-docs/stable/reference/api/pandas.to_datetime.html<br>\n",
        "https://pandas.pydata.org/docs/reference/api/pandas.Series.dt.date.html?highlight=date#pandas.Series.dt.date<br>\n",
        "https://pandas.pydata.org/docs/reference/api/pandas.Series.apply.html\n",
        "\n"
      ],
      "metadata": {
        "id": "LgPUMMKpZgNe"
      }
    }
  ]
}